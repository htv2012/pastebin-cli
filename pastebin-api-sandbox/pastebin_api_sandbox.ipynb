{
 "cells": [
  {
   "cell_type": "code",
   "execution_count": 1,
   "id": "d03a0645-5c34-46ae-a19f-4bd04ccd0f54",
   "metadata": {},
   "outputs": [],
   "source": [
    "import requests\n",
    "\n",
    "\n",
    "class PastebinAPI:\n",
    "    def __init__(self, api_dev_key: str, api_user_key: str):\n",
    "        self.api_dev_key = api_dev_key\n",
    "        self.api_user_key = api_user_key\n",
    "        self.session = requests.Session()\n",
    "\n",
    "    def ls(self, api_results_limit: int = None) -> requests.Response:\n",
    "        payload = {\n",
    "            \"api_dev_key\": self.api_dev_key,\n",
    "            \"api_user_key\": self.api_user_key,\n",
    "            \"api_option\": \"list\",\n",
    "        }\n",
    "        if api_results_limit is not None:\n",
    "            payload[\"api_results_limit\"] = api_results_limit\n",
    "\n",
    "        resp = self.session.post(\"https://pastebin.com/api/api_raw.php\", data=payload)\n",
    "        return resp"
   ]
  },
  {
   "cell_type": "code",
   "execution_count": 2,
   "id": "72a2d0ae-331a-49d7-baea-c3cfd384abd7",
   "metadata": {},
   "outputs": [
    {
     "name": "stdout",
     "output_type": "stream",
     "text": [
      "<paste>\n",
      "\t<paste_key>NKJB9ZBG</paste_key>\n",
      "\t<paste_date>1352189452</paste_date>\n",
      "\t<paste_title>Write to the middle of a file</paste_title>\n",
      "\t<paste_size>432</paste_size>\n",
      "\t<paste_expire_date>0</paste_expire_date>\n",
      "\t<paste_private>0</paste_private>\n",
      "\t<paste_format_long>TCL</paste_format_long>\n",
      "\t<paste_format_short>tcl</paste_format_short>\n",
      "\t<paste_url>https://pastebin.com/NKJB9ZBG</paste_url>\n",
      "\t<paste_hits>284</paste_hits>\n",
      "</paste>\n",
      "<paste>\n",
      "\t<paste_key>mmTMRaFf</paste_key>\n",
      "\t<paste_date>1358920668</paste_date>\n",
      "\t<paste_title>Processes-main.tcl</paste_title>\n",
      "\t<paste_size>2584</paste_size>\n",
      "\t<paste_expire_date>0</paste_expire_date>\n",
      "\t<paste_private>0</paste_private>\n",
      "\t<paste_format_long>TCL</paste_format_long>\n",
      "\t<paste_format_short>tcl</paste_format_short>\n",
      "\t<paste_url>https://pastebin.com/mmTMRaFf</paste_url>\n",
      "\t<paste_hits>271</paste_hits>\n",
      "</paste>\n"
     ]
    }
   ],
   "source": [
    "#\n",
    "# Try out: ls\n",
    "#\n",
    "api = PastebinAPI(\n",
    "    api_dev_key=\"0f5ebdccdc20288d8946008d7bc6fb74\",\n",
    "    api_user_key=\"6a314872d831cdcc4d1481202c0666ec\",\n",
    ")\n",
    "\n",
    "resp = api.ls(api_results_limit=2)\n",
    "resp.raise_for_status()\n",
    "print(resp.text)"
   ]
  },
  {
   "cell_type": "code",
   "execution_count": null,
   "id": "f9cfa437-3393-47e7-89a8-0007ba18b597",
   "metadata": {},
   "outputs": [],
   "source": []
  }
 ],
 "metadata": {
  "kernelspec": {
   "display_name": "Python 3 (ipykernel)",
   "language": "python",
   "name": "python3"
  },
  "language_info": {
   "codemirror_mode": {
    "name": "ipython",
    "version": 3
   },
   "file_extension": ".py",
   "mimetype": "text/x-python",
   "name": "python",
   "nbconvert_exporter": "python",
   "pygments_lexer": "ipython3",
   "version": "3.12.8"
  }
 },
 "nbformat": 4,
 "nbformat_minor": 5
}
